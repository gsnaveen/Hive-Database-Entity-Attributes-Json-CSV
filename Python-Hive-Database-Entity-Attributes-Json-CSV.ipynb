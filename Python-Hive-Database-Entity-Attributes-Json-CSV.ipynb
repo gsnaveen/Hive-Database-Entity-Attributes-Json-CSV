{
 "cells": [
  {
   "cell_type": "code",
   "execution_count": 1,
   "metadata": {},
   "outputs": [
    {
     "name": "stderr",
     "output_type": "stream",
     "text": [
      "C:\\Anaconda31\\lib\\site-packages\\ipykernel_launcher.py:38: DeprecationWarning: 'U' mode is deprecated\n"
     ]
    }
   ],
   "source": [
    "#https://mkleehammer.github.io/pyodbc/\n",
    "#https://hortonworks.com/downloads/ download 64bit Hive ODBC driver\n",
    "import pyodbc\n",
    "import pandas as pd\n",
    "\n",
    "hivecon = pyodbc.connect(\"DSN=hiveProd2;HOST=ServerName;PORT=20000;UID=userid;PWD=password!\",autocommit=True)\n",
    "\n",
    "hive_sql_db = \"SHOW DATABASES like '*'\"\n",
    "hive_sql_tabs = \"SHOW TABLES IN \"\n",
    "hive_sql_tabs_like = \" LIKE '*'\"\n",
    "hive_sql_table_describe = \"DESCRIBE \"\n",
    "\n",
    "tableDefall = pd.DataFrame()\n",
    "TableIndexList = pd.DataFrame()\n",
    "\n",
    "databasedf = pd.read_sql_query(hive_sql_db, hivecon)\n",
    "databaselist = databasedf['database_name']\n",
    "for db in databaselist:\n",
    "    try:\n",
    "        tablelistdf = pd.read_sql_query(hive_sql_tabs + db + hive_sql_tabs_like, hivecon)\n",
    "        tablelistdfSeries = tablelistdf['tab_name']\n",
    "    except:\n",
    "        continue\n",
    "        \n",
    "    for tab in tablelistdfSeries:\n",
    "        table_name = db + \".\" + tab\n",
    "        try:\n",
    "            tabledf = pd.read_sql_query(hive_sql_table_describe + table_name, hivecon)\n",
    "        except:\n",
    "            continue\n",
    "\n",
    "        tabledf['database'] = db\n",
    "        tabledf['table_name'] = tab\n",
    "        tabledf = tabledf[(tabledf.col_name != '') &(tabledf.col_name.str.contains('#')==False ) ].drop_duplicates()\n",
    "        tableDefall = tableDefall.append(tabledf,ignore_index=True)\n",
    "\n",
    "tableDefall.to_json(\"HiveSchema.raw\",orient='records')\n",
    "rawJson = open(\"HiveSchema.raw\", 'rU').read()\n",
    "rawJson = '{ \"data\" : '+ rawJson +\"}\"\n",
    "target = open(\"HiveSchema.json\", 'w')\n",
    "target.write(rawJson)\n",
    "target.close()\n",
    "tableDefall.to_csv(\"HiveSchema.csv\",sep=',',header=True, index=False)"
   ]
  },
  {
   "cell_type": "code",
   "execution_count": null,
   "metadata": {
    "collapsed": true
   },
   "outputs": [],
   "source": []
  }
 ],
 "metadata": {
  "anaconda-cloud": {},
  "kernelspec": {
   "display_name": "Python 3",
   "language": "python",
   "name": "python3"
  },
  "language_info": {
   "codemirror_mode": {
    "name": "ipython",
    "version": 3
   },
   "file_extension": ".py",
   "mimetype": "text/x-python",
   "name": "python",
   "nbconvert_exporter": "python",
   "pygments_lexer": "ipython3",
   "version": "3.6.2"
  }
 },
 "nbformat": 4,
 "nbformat_minor": 1
}
